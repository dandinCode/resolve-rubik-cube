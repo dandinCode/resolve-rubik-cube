{
 "cells": [
  {
   "cell_type": "markdown",
   "metadata": {},
   "source": [
    "### 01. Setup"
   ]
  },
  {
   "cell_type": "code",
   "execution_count": null,
   "metadata": {},
   "outputs": [],
   "source": [
    "from src.solvers import generate_scrambled_cube, a_star_solver,bfs_solver,ids_solver\n",
    "import matplotlib.pyplot as plt\n",
    "from matplotlib.ticker import MaxNLocator\n",
    "\n",
    "MAX_MOVES = 3\n",
    "\n",
    "COLORS = [\"#D32F2F\", \"#FFA726\", \"#A020F0\", \"#00838F\", \"#FF6F00\"]  \n",
    "\n",
    "ALGORITMOS = {\n",
    "    \"BFS\": bfs_solver,\n",
    "    \"IDS\": lambda cube: ids_solver(cube, max_depth=10),\n",
    "    \"A*\": a_star_solver,\n",
    "}\n",
    "\n",
    "def plot(title:str, label_x:str, label_y:str,dados_algoritmos):\n",
    "    fig, ax = plt.subplots(figsize=(10, 5))\n",
    "\n",
    "    for index, nome_alg in enumerate(ALGORITMOS):\n",
    "        ax.plot(\n",
    "            dados_algoritmos[nome_alg][\"movimentos\"],\n",
    "            dados_algoritmos[nome_alg][\"nos\"],\n",
    "            marker='o',\n",
    "            label=nome_alg,\n",
    "            color=COLORS[index]\n",
    "        )\n",
    "\n",
    "    ax.set_title(title)\n",
    "    ax.set_xlabel(label_x)\n",
    "    ax.set_ylabel(label_y)\n",
    "    ax.legend()\n",
    "    ax.grid(True, linestyle='--', alpha=0.3)\n",
    "    ax.xaxis.set_major_locator(MaxNLocator(integer=True))\n",
    "\n",
    "    # Remove moldura\n",
    "    for spine in ax.spines.values():\n",
    "        spine.set_visible(False)\n",
    "\n",
    "    plt.tight_layout()\n",
    "    plt.show()\n",
    "          "
   ]
  },
  {
   "cell_type": "markdown",
   "metadata": {},
   "source": [
    "### 02. Testes "
   ]
  },
  {
   "cell_type": "code",
   "execution_count": null,
   "metadata": {},
   "outputs": [],
   "source": [
    "dados_algoritmos = {\n",
    "    nome: {\n",
    "        \"movimentos\": [],\n",
    "        \"tempo\": [],\n",
    "        \"nos\": [],\n",
    "        \"passos\": []\n",
    "    }\n",
    "    for nome in ALGORITMOS\n",
    "}\n",
    "\n",
    "for n in range(1, MAX_MOVES + 1):\n",
    "    print(f'\\n=== Embaralhamento com {n} movimentos ===')\n",
    "    scrambled_cube, scramble_seq = generate_scrambled_cube(n)\n",
    "    print(f'Movimentos de embaralhamento: {scramble_seq}')\n",
    "\n",
    "    for nome_alg, func in ALGORITMOS.items():\n",
    "        print(f'\\n[{nome_alg}]')\n",
    "        solution, tempo, _, nodes, _ = func(scrambled_cube)\n",
    "\n",
    "        if solution:\n",
    "            print(f'Solução ({len(solution)} passos): {solution}')\n",
    "            print(f'Tempo: {tempo:.4f}s | Nós: {nodes}')\n",
    "            dados_algoritmos[nome_alg][\"movimentos\"].append(n)\n",
    "            dados_algoritmos[nome_alg][\"tempo\"].append(tempo)\n",
    "            dados_algoritmos[nome_alg][\"nos\"].append(nodes)\n",
    "            dados_algoritmos[nome_alg][\"passos\"].append(len(solution))\n",
    "        else:\n",
    "            print('Solução não encontrada.')\n",
    "            dados_algoritmos[nome_alg][\"movimentos\"].append(n)\n",
    "            dados_algoritmos[nome_alg][\"tempo\"].append(None)\n",
    "            dados_algoritmos[nome_alg][\"nos\"].append(None)\n",
    "            dados_algoritmos[nome_alg][\"passos\"].append(None)\n",
    "\n",
    "plot(title=\"Tempo de Execução por Algoritmo\",label_x=\"Movimentos embaralhados\",label_y=\"Tempo (s)\",dados_algoritmos=dados_algoritmos)\n",
    "plot(title=\"Nós Expandidos por Algoritmo\",label_x=\"Movimentos embaralhados\",label_y=\"Nós expandidos\",dados_algoritmos=dados_algoritmos)\n"
   ]
  }
 ],
 "metadata": {
  "kernelspec": {
   "display_name": "resolve-rubik-cube-qfT5JP1j-py3.12",
   "language": "python",
   "name": "python3"
  },
  "language_info": {
   "codemirror_mode": {
    "name": "ipython",
    "version": 3
   },
   "file_extension": ".py",
   "mimetype": "text/x-python",
   "name": "python",
   "nbconvert_exporter": "python",
   "pygments_lexer": "ipython3",
   "version": "3.12.0"
  }
 },
 "nbformat": 4,
 "nbformat_minor": 2
}
